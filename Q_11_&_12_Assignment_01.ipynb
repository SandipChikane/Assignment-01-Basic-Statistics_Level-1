{
  "cells": [
    {
      "cell_type": "markdown",
      "source": [
        "# **Question - 11**"
      ],
      "metadata": {
        "id": "NYlOA7OyrBjE"
      }
    },
    {
      "cell_type": "code",
      "execution_count": 1,
      "metadata": {
        "id": "0lh_SwNHgqyD"
      },
      "outputs": [],
      "source": [
        "from scipy import stats\n",
        "import pandas as pd\n",
        "import numpy as np\n"
      ]
    },
    {
      "cell_type": "code",
      "source": [
        "#Data Given\n",
        "Sample_size = 2000\n",
        "Population_size=3000000\n",
        "Sample_mean = 200\n",
        "Sample_standard_deviation = 30"
      ],
      "metadata": {
        "id": "ADt4lSpuoikx"
      },
      "execution_count": 11,
      "outputs": []
    },
    {
      "cell_type": "code",
      "source": [
        "#For 94% confidence interval \n",
        "CI1 =stats.norm.interval(alpha=0.94,\n",
        "                    loc=200,\n",
        "                    scale=30)\n",
        "\n",
        "print(\"Confidence interval for 94%-\",CI1)"
      ],
      "metadata": {
        "colab": {
          "base_uri": "https://localhost:8080/"
        },
        "id": "_AtEZ8S5psMz",
        "outputId": "d44cd184-1dc4-46c2-84eb-2da1071e2817"
      },
      "execution_count": 17,
      "outputs": [
        {
          "output_type": "stream",
          "name": "stdout",
          "text": [
            "Confidence interval for 94%- (143.57619175546247, 256.42380824453755)\n"
          ]
        }
      ]
    },
    {
      "cell_type": "code",
      "source": [
        "#For 98% confidence interval \n",
        "CI1 =stats.norm.interval(alpha=0.98,\n",
        "                    loc=200,\n",
        "                    scale=30)\n",
        "\n",
        "print(\"Confidence interval for 94%-\",CI1)"
      ],
      "metadata": {
        "colab": {
          "base_uri": "https://localhost:8080/"
        },
        "id": "Qul8UbxqqoSs",
        "outputId": "57f48fbf-12a3-4c12-9d1f-e4fa25ffc445"
      },
      "execution_count": 18,
      "outputs": [
        {
          "output_type": "stream",
          "name": "stdout",
          "text": [
            "Confidence interval for 94%- (130.2095637787748, 269.7904362212252)\n"
          ]
        }
      ]
    },
    {
      "cell_type": "code",
      "source": [
        "#For 96% confidence interval \n",
        "CI1 =stats.norm.interval(alpha=0.96,\n",
        "                    loc=200,\n",
        "                    scale=30)\n",
        "\n",
        "print(\"Confidence interval for 94%-\",CI1)"
      ],
      "metadata": {
        "colab": {
          "base_uri": "https://localhost:8080/"
        },
        "id": "SV44kQWpqpQw",
        "outputId": "c2a174db-f972-41cb-f1a8-d3a890dffa66"
      },
      "execution_count": 19,
      "outputs": [
        {
          "output_type": "stream",
          "name": "stdout",
          "text": [
            "Confidence interval for 94%- (138.38753268104531, 261.61246731895466)\n"
          ]
        }
      ]
    },
    {
      "cell_type": "markdown",
      "source": [
        "# **Question - 12**"
      ],
      "metadata": {
        "id": "DMYYUnpxrKkT"
      }
    },
    {
      "cell_type": "code",
      "source": [
        "#Below are the scores obtained by the students\n",
        "scores=[34,36,36,38,38,39,39,40,40,41,41,41,41,42,42,45,49,56]"
      ],
      "metadata": {
        "id": "aN7G1cpYrP95"
      },
      "execution_count": 32,
      "outputs": []
    },
    {
      "cell_type": "code",
      "source": [
        "scores=pd.Series(scores)"
      ],
      "metadata": {
        "id": "DCVmblJcsE1o"
      },
      "execution_count": 33,
      "outputs": []
    },
    {
      "cell_type": "code",
      "source": [
        "scores.count()"
      ],
      "metadata": {
        "colab": {
          "base_uri": "https://localhost:8080/"
        },
        "id": "_Ecl0pt9wAZk",
        "outputId": "9d8a1ac0-d6c5-4461-ccb6-d57178ed3b7a"
      },
      "execution_count": 45,
      "outputs": [
        {
          "output_type": "execute_result",
          "data": {
            "text/plain": [
              "18"
            ]
          },
          "metadata": {},
          "execution_count": 45
        }
      ]
    },
    {
      "cell_type": "code",
      "source": [
        "#Mean,median,variance and standard deviation of scores \n",
        "print(\"Mean of Scores =\",scores.mean())\n",
        "print(\"Median of Scores =\",scores.median())\n",
        "print(\"Variance of Scores =\",scores.var())\n",
        "print(\"Standard Deviation of Scores =\",scores.std())"
      ],
      "metadata": {
        "colab": {
          "base_uri": "https://localhost:8080/"
        },
        "id": "y52KcyctrmcU",
        "outputId": "209defec-6bc0-4d23-ca47-2b03f50a6e09"
      },
      "execution_count": 36,
      "outputs": [
        {
          "output_type": "stream",
          "name": "stdout",
          "text": [
            "Mean of Scores = 41.0\n",
            "Median of Scores = 40.5\n",
            "Variance of Scores = 25.529411764705884\n",
            "Standard Deviation of Scores = 5.05266382858645\n"
          ]
        }
      ]
    },
    {
      "cell_type": "code",
      "source": [
        "import seaborn as sns\n",
        "z=stats.zscore(scores)\n",
        "sns.distplot(z)"
      ],
      "metadata": {
        "colab": {
          "base_uri": "https://localhost:8080/",
          "height": 337
        },
        "id": "GGsUU15Es2b_",
        "outputId": "a289c712-e04c-480a-dc6e-a29877884a0e"
      },
      "execution_count": 42,
      "outputs": [
        {
          "output_type": "stream",
          "name": "stderr",
          "text": [
            "/usr/local/lib/python3.8/dist-packages/seaborn/distributions.py:2619: FutureWarning: `distplot` is a deprecated function and will be removed in a future version. Please adapt your code to use either `displot` (a figure-level function with similar flexibility) or `histplot` (an axes-level function for histograms).\n",
            "  warnings.warn(msg, FutureWarning)\n"
          ]
        },
        {
          "output_type": "execute_result",
          "data": {
            "text/plain": [
              "<matplotlib.axes._subplots.AxesSubplot at 0x7fe561f86e50>"
            ]
          },
          "metadata": {},
          "execution_count": 42
        },
        {
          "output_type": "display_data",
          "data": {
            "text/plain": [
              "<Figure size 432x288 with 1 Axes>"
            ],
            "image/png": "[encoded data removed]"
          },
          "metadata": {
            "needs_background": "light"
          }
        }
      ]
    },
    {
      "cell_type": "code",
      "source": [
        "#12-2 What can we say about the student marks? \n",
        "# Answer:- i) The average marks obtaied by 18 students is 41.\n",
        "#          ii) Variance for marks is 25.52.\n",
        "#          iii) We can see from above distribution plot the marks are concentrated around the mean value i.e. 41. "
      ],
      "metadata": {
        "id": "oeYimXi1ufw_"
      },
      "execution_count": 46,
      "outputs": []
    }
  ],
  "metadata": {
    "kernelspec": {
      "display_name": "Python 3",
      "language": "python",
      "name": "python3"
    },
    "language_info": {
      "codemirror_mode": {
        "name": "ipython",
        "version": 3
      },
      "file_extension": ".py",
      "mimetype": "text/x-python",
      "name": "python",
      "nbconvert_exporter": "python",
      "pygments_lexer": "ipython3",
      "version": "3.7.4"
    },
    "colab": {
      "provenance": []
    }
  },
  "nbformat": 4,
  "nbformat_minor": 0
}