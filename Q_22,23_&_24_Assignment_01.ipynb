{
  "nbformat": 4,
  "nbformat_minor": 0,
  "metadata": {
    "colab": {
      "provenance": []
    },
    "kernelspec": {
      "name": "python3",
      "display_name": "Python 3"
    },
    "language_info": {
      "name": "python"
    }
  },
  "cells": [
    {
      "cell_type": "markdown",
      "source": [
        "# **Question - 22**"
      ],
      "metadata": {
        "id": "jheFbQvJREmO"
      }
    },
    {
      "cell_type": "code",
      "execution_count": 16,
      "metadata": {
        "id": "b9m9dEUmP4Cx"
      },
      "outputs": [],
      "source": [
        "from scipy import stats\n",
        "from math import *"
      ]
    },
    {
      "cell_type": "code",
      "source": [
        "#For Z-score we have mean=0 and Standard Deviation=1\n",
        "# For confidence of 90% \n",
        "print(\"Confidence Interval for 90% confidence\",stats.norm.interval(alpha=0.90))"
      ],
      "metadata": {
        "colab": {
          "base_uri": "https://localhost:8080/"
        },
        "id": "N5OSvMsQQBEb",
        "outputId": "a2758ab8-62f3-4ca4-c0cc-93c463dafb2a"
      },
      "execution_count": 17,
      "outputs": [
        {
          "output_type": "stream",
          "name": "stdout",
          "text": [
            "Confidence Interval for 90% confidence (-1.6448536269514729, 1.6448536269514722)\n"
          ]
        }
      ]
    },
    {
      "cell_type": "code",
      "source": [
        "# For confidence of 94% \n",
        "print(\"Confidence Interval for 94% confidence\",stats.norm.interval(alpha=0.94))"
      ],
      "metadata": {
        "colab": {
          "base_uri": "https://localhost:8080/"
        },
        "id": "ieCswKqZQyU2",
        "outputId": "a286ef22-a09b-4368-f1cb-1f01c861a795"
      },
      "execution_count": 18,
      "outputs": [
        {
          "output_type": "stream",
          "name": "stdout",
          "text": [
            "Confidence Interval for 94% confidence (-1.8807936081512509, 1.8807936081512509)\n"
          ]
        }
      ]
    },
    {
      "cell_type": "code",
      "source": [
        "# For confidence of 60% \n",
        "print(\"Confidence Interval for 60% confidence\",stats.norm.interval(alpha=0.60))"
      ],
      "metadata": {
        "colab": {
          "base_uri": "https://localhost:8080/"
        },
        "id": "tDuIOeTzQyr0",
        "outputId": "9beee378-889c-4e4e-b0cd-50352f93a455"
      },
      "execution_count": 19,
      "outputs": [
        {
          "output_type": "stream",
          "name": "stdout",
          "text": [
            "Confidence Interval for 60% confidence (-0.8416212335729142, 0.8416212335729143)\n"
          ]
        }
      ]
    },
    {
      "cell_type": "markdown",
      "source": [
        "# **Question - 23**"
      ],
      "metadata": {
        "id": "LA9yWmZ4RKmG"
      }
    },
    {
      "cell_type": "code",
      "source": [
        "#Sample size is less then the 30. Hence we will use t-distribution to calculate Confidence Interval.\n",
        "n=25"
      ],
      "metadata": {
        "id": "n4igZrk2ROSi"
      },
      "execution_count": 20,
      "outputs": []
    },
    {
      "cell_type": "code",
      "source": [
        "# For confidence of 95% \n",
        "print(\"Confidence Interval for 95% confidence\",stats.t.interval(alpha=0.95,df=25))"
      ],
      "metadata": {
        "colab": {
          "base_uri": "https://localhost:8080/"
        },
        "id": "s_nkg4r7Rcc_",
        "outputId": "82185683-56a1-457d-fb71-d9662f250482"
      },
      "execution_count": 23,
      "outputs": [
        {
          "output_type": "stream",
          "name": "stdout",
          "text": [
            "Confidence Interval for 95% confidence (-2.059538552753294, 2.059538552753294)\n"
          ]
        }
      ]
    },
    {
      "cell_type": "code",
      "source": [
        "# For confidence of 96% \n",
        "print(\"Confidence Interval for 96% confidence\",stats.t.interval(alpha=0.96,df=25))"
      ],
      "metadata": {
        "colab": {
          "base_uri": "https://localhost:8080/"
        },
        "id": "t5eqh4xOSFLz",
        "outputId": "b82418a1-1e4f-4d97-e2aa-b4db3922e2d8"
      },
      "execution_count": 22,
      "outputs": [
        {
          "output_type": "stream",
          "name": "stdout",
          "text": [
            "Confidence Interval for 96% confidence (-2.1665866344527562, 2.1665866344527562)\n"
          ]
        }
      ]
    },
    {
      "cell_type": "code",
      "source": [
        "# For confidence of 99% \n",
        "print(\"Confidence Interval for 99% confidence\",stats.t.interval(alpha=0.99,df=25))"
      ],
      "metadata": {
        "colab": {
          "base_uri": "https://localhost:8080/"
        },
        "id": "rHO9h8ZPSLIa",
        "outputId": "f2966a3f-a639-41cb-b6d1-4458599bccbc"
      },
      "execution_count": 21,
      "outputs": [
        {
          "output_type": "stream",
          "name": "stdout",
          "text": [
            "Confidence Interval for 99% confidence (-2.787435813675851, 2.787435813675851)\n"
          ]
        }
      ]
    },
    {
      "cell_type": "markdown",
      "source": [
        "# **Question - 24**"
      ],
      "metadata": {
        "id": "t2UViJhIZQW9"
      }
    },
    {
      "cell_type": "code",
      "source": [
        "#Given data\n",
        "x=260\n",
        "mu=270\n",
        "sigma=90\n",
        "n=18"
      ],
      "metadata": {
        "id": "OCJ5fEvUZcJz"
      },
      "execution_count": 24,
      "outputs": []
    },
    {
      "cell_type": "code",
      "source": [
        "#Find t-score at x=260 as we have sample size less then 30\n",
        "t=(x-mu)/(sigma/sqrt(n))\n",
        "t"
      ],
      "metadata": {
        "colab": {
          "base_uri": "https://localhost:8080/"
        },
        "id": "7kwznxjnZfOg",
        "outputId": "bd01e238-fa88-4b1b-8e8f-10d3b32edd69"
      },
      "execution_count": 25,
      "outputs": [
        {
          "output_type": "execute_result",
          "data": {
            "text/plain": [
              "-0.4714045207910317"
            ]
          },
          "metadata": {},
          "execution_count": 25
        }
      ]
    },
    {
      "cell_type": "code",
      "source": [
        "#Probability at this t score is\n",
        "print(\"The probability that 18 randomly selected bulbs would have an average life of no more than 260 days = \",stats.t.cdf(t,df=17))"
      ],
      "metadata": {
        "colab": {
          "base_uri": "https://localhost:8080/"
        },
        "id": "knGK0w0pZi14",
        "outputId": "31ac6474-3d9f-4dec-ae42-b55246afbf95"
      },
      "execution_count": 26,
      "outputs": [
        {
          "output_type": "stream",
          "name": "stdout",
          "text": [
            "The probability that 18 randomly selected bulbs would have an average life of no more than 260 days =  0.32167253567098364\n"
          ]
        }
      ]
    }
  ]
}